{
 "cells": [
  {
   "cell_type": "code",
   "execution_count": 2,
   "id": "ef26d046-d32c-453e-9968-2ddf2cff0877",
   "metadata": {},
   "outputs": [],
   "source": [
    "import pandas as pd"
   ]
  },
  {
   "cell_type": "code",
   "execution_count": 4,
   "id": "52a1c338-ca8b-4f09-b15b-8ebe43e58c92",
   "metadata": {},
   "outputs": [
    {
     "data": {
      "text/html": [
       "<div>\n",
       "<style scoped>\n",
       "    .dataframe tbody tr th:only-of-type {\n",
       "        vertical-align: middle;\n",
       "    }\n",
       "\n",
       "    .dataframe tbody tr th {\n",
       "        vertical-align: top;\n",
       "    }\n",
       "\n",
       "    .dataframe thead th {\n",
       "        text-align: right;\n",
       "    }\n",
       "</style>\n",
       "<table border=\"1\" class=\"dataframe\">\n",
       "  <thead>\n",
       "    <tr style=\"text-align: right;\">\n",
       "      <th></th>\n",
       "      <th>Product ID</th>\n",
       "      <th>Product Title</th>\n",
       "      <th>Merchant ID</th>\n",
       "      <th>Cluster ID</th>\n",
       "      <th>Cluster Label</th>\n",
       "      <th>Category ID</th>\n",
       "      <th>Category Label</th>\n",
       "    </tr>\n",
       "  </thead>\n",
       "  <tbody>\n",
       "    <tr>\n",
       "      <th>0</th>\n",
       "      <td>1</td>\n",
       "      <td>apple iphone 8 plus 64gb silver</td>\n",
       "      <td>1</td>\n",
       "      <td>1</td>\n",
       "      <td>Apple iPhone 8 Plus 64GB</td>\n",
       "      <td>2612</td>\n",
       "      <td>Mobile Phones</td>\n",
       "    </tr>\n",
       "    <tr>\n",
       "      <th>1</th>\n",
       "      <td>2</td>\n",
       "      <td>apple iphone 8 plus 64 gb spacegrau</td>\n",
       "      <td>2</td>\n",
       "      <td>1</td>\n",
       "      <td>Apple iPhone 8 Plus 64GB</td>\n",
       "      <td>2612</td>\n",
       "      <td>Mobile Phones</td>\n",
       "    </tr>\n",
       "    <tr>\n",
       "      <th>2</th>\n",
       "      <td>3</td>\n",
       "      <td>apple mq8n2b/a iphone 8 plus 64gb 5.5 12mp sim...</td>\n",
       "      <td>3</td>\n",
       "      <td>1</td>\n",
       "      <td>Apple iPhone 8 Plus 64GB</td>\n",
       "      <td>2612</td>\n",
       "      <td>Mobile Phones</td>\n",
       "    </tr>\n",
       "    <tr>\n",
       "      <th>3</th>\n",
       "      <td>4</td>\n",
       "      <td>apple iphone 8 plus 64gb space grey</td>\n",
       "      <td>4</td>\n",
       "      <td>1</td>\n",
       "      <td>Apple iPhone 8 Plus 64GB</td>\n",
       "      <td>2612</td>\n",
       "      <td>Mobile Phones</td>\n",
       "    </tr>\n",
       "    <tr>\n",
       "      <th>4</th>\n",
       "      <td>5</td>\n",
       "      <td>apple iphone 8 plus gold 5.5 64gb 4g unlocked ...</td>\n",
       "      <td>5</td>\n",
       "      <td>1</td>\n",
       "      <td>Apple iPhone 8 Plus 64GB</td>\n",
       "      <td>2612</td>\n",
       "      <td>Mobile Phones</td>\n",
       "    </tr>\n",
       "  </tbody>\n",
       "</table>\n",
       "</div>"
      ],
      "text/plain": [
       "   Product ID                                      Product Title  \\\n",
       "0           1                    apple iphone 8 plus 64gb silver   \n",
       "1           2                apple iphone 8 plus 64 gb spacegrau   \n",
       "2           3  apple mq8n2b/a iphone 8 plus 64gb 5.5 12mp sim...   \n",
       "3           4                apple iphone 8 plus 64gb space grey   \n",
       "4           5  apple iphone 8 plus gold 5.5 64gb 4g unlocked ...   \n",
       "\n",
       "    Merchant ID   Cluster ID             Cluster Label   Category ID  \\\n",
       "0             1            1  Apple iPhone 8 Plus 64GB          2612   \n",
       "1             2            1  Apple iPhone 8 Plus 64GB          2612   \n",
       "2             3            1  Apple iPhone 8 Plus 64GB          2612   \n",
       "3             4            1  Apple iPhone 8 Plus 64GB          2612   \n",
       "4             5            1  Apple iPhone 8 Plus 64GB          2612   \n",
       "\n",
       "   Category Label  \n",
       "0   Mobile Phones  \n",
       "1   Mobile Phones  \n",
       "2   Mobile Phones  \n",
       "3   Mobile Phones  \n",
       "4   Mobile Phones  "
      ]
     },
     "execution_count": 4,
     "metadata": {},
     "output_type": "execute_result"
    }
   ],
   "source": [
    "df = pd.read_csv(\"C:/Users/Aniket Kelwadkar/product-trend-forecasting/data/raw/pricerunner_aggregate.csv\")\n",
    "df.head()"
   ]
  },
  {
   "cell_type": "code",
   "execution_count": 8,
   "id": "772541c5-5bdc-41b7-b4b0-4e2aa6526da0",
   "metadata": {},
   "outputs": [],
   "source": [
    "#Generating synthetic dates\n",
    "import numpy as np\n",
    "np.random.seed(42) #For reproducibility\n",
    "\n",
    "df['Date'] = pd.to_datetime(np.random.choice(pd.date_range(start = \"2022-01-01\", end = \"2023-12-31\", freq = 'D'),\n",
    "                                             size = len(df)))"
   ]
  },
  {
   "cell_type": "code",
   "execution_count": 10,
   "id": "fa64114b-9669-437c-9c61-250d350704f2",
   "metadata": {},
   "outputs": [],
   "source": [
    "# Optional: Sort by date to simulate chronological order\n",
    "df = df.sort_values('Date').reset_index(drop=True)"
   ]
  },
  {
   "cell_type": "code",
   "execution_count": 12,
   "id": "fbe5736e-e044-4ec4-a151-68016f7d7188",
   "metadata": {},
   "outputs": [
    {
     "name": "stdout",
     "output_type": "stream",
     "text": [
      "✅ Synthetic dates added and saved to 'data/processed/products_with_dates.csv'\n"
     ]
    }
   ],
   "source": [
    "\n",
    "# Save to processed folder\n",
    "output_path = \"C:/Users/Aniket Kelwadkar/product-trend-forecasting/data/processed/products_with_dates.csv\"\n",
    "df.to_csv(output_path, index=False)\n",
    "\n",
    "print(\"✅ Synthetic dates added and saved to 'data/processed/products_with_dates.csv'\")"
   ]
  },
  {
   "cell_type": "code",
   "execution_count": null,
   "id": "aca62e0f-e366-4603-a060-fbf966b53fbf",
   "metadata": {},
   "outputs": [],
   "source": []
  }
 ],
 "metadata": {
  "kernelspec": {
   "display_name": "Python 3 (ipykernel)",
   "language": "python",
   "name": "python3"
  },
  "language_info": {
   "codemirror_mode": {
    "name": "ipython",
    "version": 3
   },
   "file_extension": ".py",
   "mimetype": "text/x-python",
   "name": "python",
   "nbconvert_exporter": "python",
   "pygments_lexer": "ipython3",
   "version": "3.11.7"
  }
 },
 "nbformat": 4,
 "nbformat_minor": 5
}
